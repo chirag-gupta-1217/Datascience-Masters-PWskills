{
 "cells": [
  {
   "cell_type": "markdown",
   "id": "e49be150-eae8-45cc-8aef-f37e08943ce5",
   "metadata": {},
   "source": [
    "Q1. Explain with an example each when to use a for loop and a while loop?"
   ]
  },
  {
   "cell_type": "markdown",
   "id": "7f712f51-6910-4b0c-bd51-81d5d806978c",
   "metadata": {},
   "source": [
    "In Python, 'for' and 'while' loops are both used for repetitive tasks, but they are used in different situations depending on the specific requirements of the task."
   ]
  },
  {
   "cell_type": "markdown",
   "id": "93d253a0-33cb-485a-84df-16a5af468d69",
   "metadata": {},
   "source": [
    "A 'for' loop is typically used when you know in advance how many times you need to repeat a particular block of code. It is used to iterate over a sequence of items, such as a list, tuple, or string. Here's an example:"
   ]
  },
  {
   "cell_type": "code",
   "execution_count": 1,
   "id": "6b885580-6af5-42fe-abba-f40b97cba732",
   "metadata": {},
   "outputs": [
    {
     "name": "stdout",
     "output_type": "stream",
     "text": [
      "1\n",
      "2\n",
      "3\n",
      "4\n",
      "5\n"
     ]
    }
   ],
   "source": [
    "my_list = [1, 2, 3, 4, 5]\n",
    "for item in my_list:\n",
    "    print(item)"
   ]
  },
  {
   "cell_type": "markdown",
   "id": "48247672-2bdc-48fc-bf11-d4f08e1ac1bc",
   "metadata": {},
   "source": [
    "In this example, the 'for' loop is used to iterate over the items in the list my_list. The loop runs for as many items as there are in the list, and each item is printed out one at a time."
   ]
  },
  {
   "cell_type": "markdown",
   "id": "b062b1cd-2061-474b-bd2f-8bf211fd2595",
   "metadata": {},
   "source": [
    "On the other hand, a 'while' loop is typically used when you don't know in advance how many times you need to repeat a particular block of code. It is used to repeat a block of code as long as a certain condition is true. Here's an example:"
   ]
  },
  {
   "cell_type": "code",
   "execution_count": 2,
   "id": "15accabe-8edc-4b9d-8fd5-8e7f4e980e42",
   "metadata": {},
   "outputs": [
    {
     "name": "stdout",
     "output_type": "stream",
     "text": [
      "0\n",
      "1\n",
      "2\n",
      "3\n",
      "4\n"
     ]
    }
   ],
   "source": [
    "i = 0\n",
    "while i < 5:\n",
    "    print(i)\n",
    "    i += 1\n"
   ]
  },
  {
   "cell_type": "markdown",
   "id": "4a278358-ba62-4e19-a15a-25eb4eda648a",
   "metadata": {},
   "source": [
    "In this example, the 'while' loop is used to repeat the block of code as long as the value of i is less than 5. The loop continues to run until the condition is no longer true. Each time through the loop, the value of i is printed out, and then it is incremented by 1.\n",
    "\n",
    "In summary, use a 'for' loop when you need to iterate over a sequence of items, and use a 'while' loop when you need to repeat a block of code as long as a certain condition is true."
   ]
  },
  {
   "cell_type": "markdown",
   "id": "557b4b28-3b70-49c1-bcd3-9e5418077b44",
   "metadata": {
    "tags": []
   },
   "source": [
    "Q2. Write a python program to print the sum and product of the first 10 natural numbers using for and while loop."
   ]
  },
  {
   "cell_type": "code",
   "execution_count": 14,
   "id": "eed36f76-06ac-4ab0-b2bf-a42a7eb572e7",
   "metadata": {},
   "outputs": [
    {
     "name": "stdout",
     "output_type": "stream",
     "text": [
      "Sum of the first 10 natural number 55\n",
      "Product of first 10 natural numbers: 3628800\n"
     ]
    }
   ],
   "source": [
    "numbers=range(1,11)\n",
    "sum_10=0\n",
    "product_10=1\n",
    "for i in numbers:\n",
    "    sum_10+=i\n",
    "    product_10=i*product_10\n",
    "print(\"Sum of the first 10 natural number\",sum_10)\n",
    "print(\"Product of first 10 natural numbers:\",product_10)"
   ]
  },
  {
   "cell_type": "markdown",
   "id": "59d61585-ab5d-43b4-b695-10511b8089b5",
   "metadata": {},
   "source": [
    "Q3. Create a python program to compute the electricity bill for a household.\n",
    "The per-unit charges in rupees are as follows: For the first 100 units, the user will be charged Rs. 4.5 per unit, for the next 100 units, the user will be charged Rs. 6 per unit, and for the next 100 units, the user will be charged Rs. 10 per unit, After 300 units and above the user will be charged Rs. 20 per unit. You are required to take the units of electricity consumed in a month from the user as input."
   ]
  },
  {
   "cell_type": "code",
   "execution_count": 5,
   "id": "e13343e8-0475-4529-ae88-aa18c27cd209",
   "metadata": {},
   "outputs": [
    {
     "name": "stdin",
     "output_type": "stream",
     "text": [
      "Enter the units of electricity consumed 310\n"
     ]
    },
    {
     "name": "stdout",
     "output_type": "stream",
     "text": [
      "The electricity bill for for a household 2250.0\n"
     ]
    }
   ],
   "source": [
    "Electricity_used=int(input(\"Enter the units of electricity consumed\"))\n",
    "Electricity_bill=0\n",
    "if Electricity_used>0 and Electricity_used <= 100:\n",
    "    Electricity_bill=4.5*Electricity_used\n",
    "elif Electricity_used>100 and Electricity_used<=200:\n",
    "    Electricity_bill=6*(Electricity_used-100)+4.5*100\n",
    "elif Electricity_used>200 and Electricity_used<=300:\n",
    "    Electricity_bill=4.5*100+6*100+(Electricity_used-200)*10\n",
    "else :\n",
    "    Electricity_bill=4.5*100+6*100+100*10+(Electricity_used-300)*20\n",
    "print(\"The electricity bill for for a household\",Electricity_bill)"
   ]
  },
  {
   "cell_type": "markdown",
   "id": "4b79c46c-423f-4d14-b857-07f0d47618e7",
   "metadata": {},
   "source": [
    "Q4. Create a list of numbers from 1 to 100. Use for loop and while loop to calculate the cube of each number and if the cube of that number is divisible by 4 or 5 then append that number in a list and print that list."
   ]
  },
  {
   "cell_type": "code",
   "execution_count": 11,
   "id": "da693795-816d-496f-96db-f722e88598a3",
   "metadata": {},
   "outputs": [
    {
     "name": "stdout",
     "output_type": "stream",
     "text": [
      "The numbers which are divisible by 4 or 5 are [2, 4, 5, 6, 8, 10, 12, 14, 15, 16, 18, 20, 22, 24, 25, 26, 28, 30, 32, 34, 35, 36, 38, 40, 42, 44, 45, 46, 48, 50, 52, 54, 55, 56, 58, 60, 62, 64, 65, 66, 68, 70, 72, 74, 75, 76, 78, 80, 82, 84, 85, 86, 88, 90, 92, 94, 95, 96, 98, 100]\n"
     ]
    }
   ],
   "source": [
    "number=list(range(1,101))\n",
    "Divisible=[]\n",
    "for i in number:\n",
    "    cube=i**3\n",
    "    if cube%4==0 or cube%5==0:\n",
    "        Divisible.append(i)\n",
    "print(\"The numbers which are divisible by 4 or 5 are\",Divisible)"
   ]
  },
  {
   "cell_type": "markdown",
   "id": "77abb909-57c6-4da5-adbc-aa5a79a8a9ca",
   "metadata": {},
   "source": [
    "Q5. Write a program to filter count vowels in the below-given string.\n",
    "string = \"I want to become a data scientist\""
   ]
  },
  {
   "cell_type": "code",
   "execution_count": 12,
   "id": "b6f70771-8d5c-4d0e-866e-94a4db71ac4f",
   "metadata": {},
   "outputs": [
    {
     "name": "stdout",
     "output_type": "stream",
     "text": [
      "Number of vowels in the given string is:  11\n"
     ]
    }
   ],
   "source": [
    "# Program: Count number of vowels in a String in Python\n",
    "\n",
    "String_1 = \"I want to become a data scientist\"\n",
    "\n",
    "# initializing count variable\n",
    "count = 0\n",
    "\n",
    "# creating a list of vowels\n",
    "vowels = [\"a\", \"e\", \"i\", \"o\", \"u\"]\n",
    "\n",
    "# iterate over the given string \n",
    "for i in range(len(String_1)):\n",
    "    if String_1[i] in vowels:\n",
    "        count += 1\n",
    "\n",
    "print(\"Number of vowels in the given string is: \", count)"
   ]
  },
  {
   "cell_type": "code",
   "execution_count": null,
   "id": "14af046c-98f4-48b3-8632-d36e2165f27b",
   "metadata": {},
   "outputs": [],
   "source": []
  }
 ],
 "metadata": {
  "kernelspec": {
   "display_name": "Python 3 (ipykernel)",
   "language": "python",
   "name": "python3"
  },
  "language_info": {
   "codemirror_mode": {
    "name": "ipython",
    "version": 3
   },
   "file_extension": ".py",
   "mimetype": "text/x-python",
   "name": "python",
   "nbconvert_exporter": "python",
   "pygments_lexer": "ipython3",
   "version": "3.10.8"
  }
 },
 "nbformat": 4,
 "nbformat_minor": 5
}
