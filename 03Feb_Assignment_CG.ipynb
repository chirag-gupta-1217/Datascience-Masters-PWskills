{
 "cells": [
  {
   "cell_type": "markdown",
   "id": "e49be150-eae8-45cc-8aef-f37e08943ce5",
   "metadata": {},
   "source": [
    "Q1. Which keyword is used to create a function? Create a function to return a list of odd numbers in the\n",
    "range of 1 to 25."
   ]
  },
  {
   "cell_type": "markdown",
   "id": "7f712f51-6910-4b0c-bd51-81d5d806978c",
   "metadata": {},
   "source": [
    "The def keyword is used to create, (or define) a function."
   ]
  },
  {
   "cell_type": "code",
   "execution_count": 18,
   "id": "6b885580-6af5-42fe-abba-f40b97cba732",
   "metadata": {},
   "outputs": [],
   "source": [
    "def odd_numbers(a):\n",
    "    a=range(a)\n",
    "    list_odd=[]\n",
    "    for i in a:\n",
    "        if (i%2) != 0:\n",
    "            list_odd.append(i)\n",
    "    return print(list_odd)\n",
    "    "
   ]
  },
  {
   "cell_type": "code",
   "execution_count": 20,
   "id": "3ddb7c57-53ff-4e29-b6f5-c730cab9c07d",
   "metadata": {},
   "outputs": [
    {
     "name": "stdout",
     "output_type": "stream",
     "text": [
      "[1, 3, 5, 7, 9, 11, 13, 15, 17, 19, 21, 23]\n"
     ]
    }
   ],
   "source": [
    "odd_numbers(25)"
   ]
  },
  {
   "cell_type": "markdown",
   "id": "48247672-2bdc-48fc-bf11-d4f08e1ac1bc",
   "metadata": {},
   "source": [
    "Q2. Why *args and **kwargs is used in some functions? Create a function each for *args and **kwargs\n",
    "to demonstrate their use."
   ]
  },
  {
   "cell_type": "markdown",
   "id": "b062b1cd-2061-474b-bd2f-8bf211fd2595",
   "metadata": {},
   "source": [
    "*args and **kwargs are special syntax in Python used in function definitions. They are used to pass a variable number of arguments to a function.\n",
    "\n",
    "The *args syntax is used to pass a variable number of non-keyword arguments to a function. It allows you to pass any number of arguments to a function, and these arguments are then treated as a tuple in the function.\n",
    "\n",
    "The **kwargs syntax is used to pass a variable number of keyword arguments to a function. It allows you to pass any number of keyword arguments to a function, and these arguments are then treated as a dictionary in the function."
   ]
  },
  {
   "cell_type": "code",
   "execution_count": 21,
   "id": "15accabe-8edc-4b9d-8fd5-8e7f4e980e42",
   "metadata": {},
   "outputs": [],
   "source": [
    "def my_sum(*args):\n",
    "    result = 0\n",
    "    for num in args:\n",
    "        result += num\n",
    "    return result\n"
   ]
  },
  {
   "cell_type": "code",
   "execution_count": 32,
   "id": "9096bb1f-b9af-4eca-9955-f11ac2f01a4b",
   "metadata": {},
   "outputs": [],
   "source": [
    "def my_function(**kwargs):\n",
    "    for key, value in kwargs.items():\n",
    "        print(key + \": \" + value)"
   ]
  },
  {
   "cell_type": "code",
   "execution_count": 33,
   "id": "e4d56329-9f7f-423c-919f-60379037ba6c",
   "metadata": {},
   "outputs": [
    {
     "data": {
      "text/plain": [
       "10"
      ]
     },
     "execution_count": 33,
     "metadata": {},
     "output_type": "execute_result"
    }
   ],
   "source": [
    "my_sum(1,2,3,4)"
   ]
  },
  {
   "cell_type": "code",
   "execution_count": 35,
   "id": "b5a4ea3f-0d7a-4a24-83de-9315e803b942",
   "metadata": {},
   "outputs": [
    {
     "name": "stdout",
     "output_type": "stream",
     "text": [
      "Name: Chirag\n",
      "Age: 24\n",
      "Occupation: Engineer\n"
     ]
    }
   ],
   "source": [
    "my_function(Name=\"Chirag\", Age='24', Occupation=\"Engineer\")"
   ]
  },
  {
   "cell_type": "markdown",
   "id": "4a278358-ba62-4e19-a15a-25eb4eda648a",
   "metadata": {},
   "source": [
    "Q3. What is an iterator in python? Name the method used to initialise the iterator object and the method\n",
    "used for iteration. Use these methods to print the first five elements of the given list [2, 4, 6, 8, 10, 12, 14,\n",
    "16, 18, 20]."
   ]
  },
  {
   "cell_type": "markdown",
   "id": "557b4b28-3b70-49c1-bcd3-9e5418077b44",
   "metadata": {
    "tags": []
   },
   "source": [
    "An iterator in Python is an object that allows you to traverse a sequence of elements, such as a list or a string, and process each element one at a time. Iterators are used to implement iteration in Python, which is the process of accessing each element in a sequence, one at a time, and performing some operation on it.\n",
    "\n",
    "To create an iterator object in Python, you can use the built-in iter() function on a sequence, which returns an iterator object. You can then use the next() function to access each element in the sequence one at a time."
   ]
  },
  {
   "cell_type": "code",
   "execution_count": 30,
   "id": "eed36f76-06ac-4ab0-b2bf-a42a7eb572e7",
   "metadata": {},
   "outputs": [
    {
     "name": "stdout",
     "output_type": "stream",
     "text": [
      "2\n",
      "4\n",
      "6\n",
      "8\n",
      "10\n"
     ]
    }
   ],
   "source": [
    "# create a list\n",
    "my_list = [2, 4, 6, 8, 10, 12, 14, 16, 18, 20]\n",
    "\n",
    "# create an iterator object using the iter() method\n",
    "my_iterator = iter(my_list)\n",
    "\n",
    "# use a for loop to iterate over the first five elements using the next() method\n",
    "for i in range(5):\n",
    "    print(next(my_iterator))"
   ]
  },
  {
   "cell_type": "markdown",
   "id": "59d61585-ab5d-43b4-b695-10511b8089b5",
   "metadata": {},
   "source": [
    "Q4. What is a generator function in python? Why yield keyword is used? Give an example of a generator\n",
    "function."
   ]
  },
  {
   "cell_type": "markdown",
   "id": "09fa7bf3-f5b3-4223-acb9-3e1f534de6b7",
   "metadata": {},
   "source": [
    "A generator function in Python is a special type of function that generates a sequence of values using the yield keyword. Unlike regular functions that return a value and then exit, generator functions can pause execution and return a value, and then resume execution where they left off when called again.\n",
    "\n",
    "When a generator function is called, it returns a generator object that can be iterated over to produce a sequence of values. Each time the yield keyword is encountered in the generator function, it returns the value specified, and then pauses execution until the next value is requested.\n",
    "\n",
    "The yield keyword is used in generator functions to produce a sequence of values without having to store them all in memory at once. This makes generator functions very memory-efficient, especially for large sequences"
   ]
  },
  {
   "cell_type": "code",
   "execution_count": 1,
   "id": "e13343e8-0475-4529-ae88-aa18c27cd209",
   "metadata": {},
   "outputs": [],
   "source": [
    "def test_fib(n):\n",
    "    a,b = 0,1\n",
    "    for i in range(n):\n",
    "        yield a\n",
    "        a,b = b, a+b"
   ]
  },
  {
   "cell_type": "code",
   "execution_count": 2,
   "id": "ab65d307-3499-4afd-b2dc-0e30364fcd10",
   "metadata": {},
   "outputs": [
    {
     "name": "stdout",
     "output_type": "stream",
     "text": [
      "0\n",
      "1\n",
      "1\n",
      "2\n",
      "3\n",
      "5\n",
      "8\n",
      "13\n",
      "21\n",
      "34\n"
     ]
    }
   ],
   "source": [
    "for i in test_fib(10):\n",
    "    print(i)"
   ]
  },
  {
   "cell_type": "markdown",
   "id": "4b79c46c-423f-4d14-b857-07f0d47618e7",
   "metadata": {},
   "source": [
    "Q5. Create a generator function for prime numbers less than 1000. Use the next() method to print the\n",
    "first 20 prime numbers."
   ]
  },
  {
   "cell_type": "code",
   "execution_count": 16,
   "id": "da693795-816d-496f-96db-f722e88598a3",
   "metadata": {},
   "outputs": [],
   "source": [
    "def test_prime():\n",
    "    num=2\n",
    "    while num<1000:\n",
    "        for i in range(2,num):\n",
    "            if num%i == 0:\n",
    "                break\n",
    "        else:\n",
    "            yield num\n",
    "        num+=1            "
   ]
  },
  {
   "cell_type": "code",
   "execution_count": 17,
   "id": "ebbf134a-6293-4e71-87e0-941ad3748fae",
   "metadata": {},
   "outputs": [
    {
     "name": "stdout",
     "output_type": "stream",
     "text": [
      "2\n",
      "3\n",
      "5\n",
      "7\n",
      "11\n",
      "13\n",
      "17\n",
      "19\n",
      "23\n",
      "29\n",
      "31\n",
      "37\n",
      "41\n",
      "43\n",
      "47\n",
      "53\n",
      "59\n",
      "61\n",
      "67\n",
      "71\n"
     ]
    }
   ],
   "source": [
    "prime_gen=test_prime()\n",
    "for i in range(20):\n",
    "    print(next(prime_gen))"
   ]
  },
  {
   "cell_type": "markdown",
   "id": "77abb909-57c6-4da5-adbc-aa5a79a8a9ca",
   "metadata": {},
   "source": [
    "Q6. Write a python program to print the first 10 Fibonacci numbers using a while loop."
   ]
  },
  {
   "cell_type": "code",
   "execution_count": 23,
   "id": "b6f70771-8d5c-4d0e-866e-94a4db71ac4f",
   "metadata": {},
   "outputs": [
    {
     "name": "stdout",
     "output_type": "stream",
     "text": [
      "0\n",
      "1\n",
      "1\n",
      "2\n",
      "3\n",
      "5\n",
      "8\n",
      "13\n",
      "21\n",
      "34\n"
     ]
    }
   ],
   "source": [
    "#first 10 Fibonacci numbers\n",
    "input_num = 10\n",
    "a, b = 0,1\n",
    "number = 0\n",
    "while number < input_num:\n",
    "    print(a)\n",
    "    c = a + b\n",
    "    a = b \n",
    "    b = c\n",
    "    number = number + 1"
   ]
  },
  {
   "cell_type": "markdown",
   "id": "254a27a4-c9bd-4ce7-a9a3-01d769307155",
   "metadata": {},
   "source": [
    "Q7. Write a List Comprehension to iterate through the given string: ‘pwskills’.Expected output: ['p', 'w', 's', 'k', 'i', 'l', 'l', 's']"
   ]
  },
  {
   "cell_type": "code",
   "execution_count": 25,
   "id": "20865c64-8b9d-420f-bad6-47bb11bc7195",
   "metadata": {},
   "outputs": [
    {
     "data": {
      "text/plain": [
       "['p', 'w', 's', 'k', 'i', 'l', 'l', 's']"
      ]
     },
     "execution_count": 25,
     "metadata": {},
     "output_type": "execute_result"
    }
   ],
   "source": [
    "s='pwskills'\n",
    "[i for i in s]"
   ]
  },
  {
   "cell_type": "markdown",
   "id": "b00a169b-7355-4ed0-8e11-fe34dd118744",
   "metadata": {},
   "source": [
    "Q8. Write a python program to check whether a given number is Palindrome or not using a while loop."
   ]
  },
  {
   "cell_type": "code",
   "execution_count": 27,
   "id": "5eddf0a3-2240-4760-aed4-7a026a0ea3ee",
   "metadata": {},
   "outputs": [
    {
     "name": "stdin",
     "output_type": "stream",
     "text": [
      "Enter the number to check whether it is a Palindrome or not 10\n"
     ]
    },
    {
     "data": {
      "text/plain": [
       "'10'"
      ]
     },
     "execution_count": 27,
     "metadata": {},
     "output_type": "execute_result"
    }
   ],
   "source": [
    "number=str(input(\"Enter the number to check whether it is a Palindrome or not\"))\n",
    "number"
   ]
  },
  {
   "cell_type": "code",
   "execution_count": 32,
   "id": "4cd7c444-9722-4a3f-a7c9-fa97620d0d76",
   "metadata": {},
   "outputs": [
    {
     "name": "stdin",
     "output_type": "stream",
     "text": [
      "Enter the number to check whether it is a Palindrome or not 121\n"
     ]
    },
    {
     "name": "stdout",
     "output_type": "stream",
     "text": [
      "The given number is palindrome number\n"
     ]
    }
   ],
   "source": [
    "number=int(input(\"Enter the number to check whether it is a Palindrome or not\"))\n",
    "reverseNum = 0\n",
    "tempOriginal = number\n",
    "while (tempOriginal > 0):\n",
    "    lastDigit = tempOriginal % 10\n",
    "    reverseNum = reverseNum * 10 + lastDigit\n",
    "    tempOriginal = tempOriginal // 10\n",
    "if (number == reverseNum):\n",
    "    print(\"The given number is palindrome number\")\n",
    "else:\n",
    "    print(\"The given number is not a palindrome number\")"
   ]
  },
  {
   "cell_type": "markdown",
   "id": "59cb0fa4-0a62-4f0f-91e5-570174682cbc",
   "metadata": {},
   "source": [
    "Q9. Write a code to print odd numbers from 1 to 100 using list comprehension."
   ]
  },
  {
   "cell_type": "code",
   "execution_count": 41,
   "id": "fe2d78f1-5a4b-410e-a7d8-221424e988d2",
   "metadata": {},
   "outputs": [
    {
     "name": "stdout",
     "output_type": "stream",
     "text": [
      "[1, 3, 5, 7, 9, 11, 13, 15, 17, 19, 21, 23, 25, 27, 29, 31, 33, 35, 37, 39, 41, 43, 45, 47, 49, 51, 53, 55, 57, 59, 61, 63, 65, 67, 69, 71, 73, 75, 77, 79, 81, 83, 85, 87, 89, 91, 93, 95, 97, 99]\n"
     ]
    }
   ],
   "source": [
    "odd_number=[i for i in range(1,100) if i%2!=0 ]\n",
    "print(odd_number)"
   ]
  },
  {
   "cell_type": "code",
   "execution_count": null,
   "id": "a8e85090-c087-40d7-8387-b0396abdc586",
   "metadata": {},
   "outputs": [],
   "source": []
  }
 ],
 "metadata": {
  "kernelspec": {
   "display_name": "Python 3 (ipykernel)",
   "language": "python",
   "name": "python3"
  },
  "language_info": {
   "codemirror_mode": {
    "name": "ipython",
    "version": 3
   },
   "file_extension": ".py",
   "mimetype": "text/x-python",
   "name": "python",
   "nbconvert_exporter": "python",
   "pygments_lexer": "ipython3",
   "version": "3.10.8"
  }
 },
 "nbformat": 4,
 "nbformat_minor": 5
}
