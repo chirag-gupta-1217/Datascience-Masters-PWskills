{
 "cells": [
  {
   "cell_type": "markdown",
   "id": "50e84910-1768-47ef-858b-a3c0b6d5c77b",
   "metadata": {},
   "source": [
    "Q1. Who developed Python Programming Language?"
   ]
  },
  {
   "cell_type": "markdown",
   "id": "14aa613b-f0b1-419e-9233-c3c8fe2caa4b",
   "metadata": {},
   "source": [
    "Python was developed by Guido van Rossum in the late 1980s and was first released in 1991. Guido van Rossum is a Dutch programmer who worked at the National Research Institute for Mathematics and Computer Science in the Netherlands (CWI). He developed Python as a hobby project while working on the Amoeba operating system. Van Rossum was inspired by the ABC language, which he had used at CWI, and wanted to create a language that was easy to learn and read. Since its release, Python has become one of the most popular programming languages in the world."
   ]
  },
  {
   "cell_type": "markdown",
   "id": "e8e89f23-8080-42db-bbaf-d770614fd899",
   "metadata": {},
   "source": [
    "2. Which type of Programming does Python support?"
   ]
  },
  {
   "cell_type": "markdown",
   "id": "693f5d90-0669-4edb-b362-abd3901e26b3",
   "metadata": {},
   "source": [
    "Python is a high-level programming language that supports multiple programming paradigms, including:\n",
    "\n",
    "Procedural programming: This involves writing code as a sequence of procedures or steps that are executed in a specific order.\n",
    "\n",
    "Object-oriented programming (OOP): This involves creating and using objects that encapsulate data and behavior. Python is an object-oriented language and supports all the major OOP concepts such as inheritance, polymorphism, and encapsulation.\n",
    "\n",
    "Functional programming: This involves writing code using functions as the primary building blocks. Python supports functional programming techniques such as lambda functions, map, filter, and reduce.\n",
    "\n",
    "Scripting: Python is often used as a scripting language for tasks such as automation, data processing, and web development.\n",
    "\n",
    "Python's flexibility and versatility make it a popular choice for a wide range of applications and programming tasks."
   ]
  },
  {
   "cell_type": "markdown",
   "id": "f3e4b7c4-0013-433a-bc1a-183a1d41979a",
   "metadata": {},
   "source": [
    "3. Is Python case sensitive when dealing with identifiers?"
   ]
  },
  {
   "cell_type": "markdown",
   "id": "ae403eea-9bc8-45e4-bb16-c8ce018b057c",
   "metadata": {},
   "source": [
    "Yes, Python is a case-sensitive language when it comes to identifiers. This means that identifiers, such as variable names, function names, and class names, must be spelled and capitalized consistently throughout the code."
   ]
  },
  {
   "cell_type": "markdown",
   "id": "553cb06c-d897-479c-8be6-0fe9dceff858",
   "metadata": {},
   "source": [
    "4. What is the correct extension of the Python file?"
   ]
  },
  {
   "cell_type": "markdown",
   "id": "7e8dcbaf-295a-4f49-804d-7674bcac7ce4",
   "metadata": {},
   "source": [
    "The correct extension for a Python file is .py.\n",
    "\n",
    "For example, if you have a Python script called \"hello world\", you would save the file with the name helloworld.py. This extension is used to identify Python files and is recognized by most code editors and IDEs as the default extension for Python files."
   ]
  },
  {
   "cell_type": "markdown",
   "id": "9beb5e3f-379b-43fa-bc4c-90f54ab74c97",
   "metadata": {},
   "source": [
    "5. Is Python code compiled or interpreted?"
   ]
  },
  {
   "cell_type": "markdown",
   "id": "0b73864f-383b-4769-8244-005553e50de2",
   "metadata": {},
   "source": [
    "Python code is an interpreted language. This means that the Python code is executed line-by-line by the Python interpreter, rather than being compiled into machine code before it is executed. When you run a Python program, the Python interpreter reads the code, interprets it, and executes it.\n",
    "\n",
    "However, there is a form of compilation that Python uses called bytecode compilation. When you run a Python program, the interpreter first compiles the source code into bytecode, which is a lower-level, platform-independent representation of the code. The bytecode is then executed by the interpreter. This process of bytecode compilation is done automatically by the interpreter and is intended to improve the performance of the code.\n",
    "\n",
    "Overall, Python's interpretation and bytecode compilation process make it a highly flexible and easy-to-use language, which allows developers to write and execute code quickly without having to worry about low-level details."
   ]
  },
  {
   "cell_type": "markdown",
   "id": "5e86c15c-9310-4db3-b8c0-07f70bc0c5e6",
   "metadata": {},
   "source": [
    "6. Name a few blocks of code used to define in Python language?"
   ]
  },
  {
   "cell_type": "markdown",
   "id": "6eb3d842-456a-4150-b918-190ae251f28e",
   "metadata": {},
   "source": [
    "In Python, code blocks are defined using indentation rather than brackets or other delimiters. The following are some of the main types of code blocks that are commonly used in Python:\n",
    "\n",
    "1. Function blocks: These are blocks of code that define a function in Python. Function blocks are indented from the main program code, and they start with the keyword \"def\" followed by the function name and the parameter list in parentheses.\n",
    "\n",
    "2. Conditional blocks: These are blocks of code that execute only if a certain condition is met. Conditional blocks in Python are created using the \"if\", \"elif\", and \"else\" keywords, followed by the condition to be evaluated, and the code to be executed if the condition is true.\n",
    "\n",
    "3. Loop blocks: These are blocks of code that repeat a set of instructions multiple times until a certain condition is met. Loop blocks in Python are created using the \"for\" and \"while\" keywords, followed by the code to be executed, and the condition for the loop to continue.\n",
    "\n",
    "4. Class blocks: These are blocks of code that define a class in Python. Class blocks start with the \"class\" keyword followed by the class name and the colon, and then the class code block is indented underneath.\n",
    "\n",
    "These code blocks are fundamental to programming in Python, and they help to structure the code and make it more readable and maintainable."
   ]
  },
  {
   "cell_type": "markdown",
   "id": "00d21148-1da6-4f67-9df0-823b0ecb263c",
   "metadata": {},
   "source": [
    "7. State a character used to give single-line comments in Python?"
   ]
  },
  {
   "cell_type": "markdown",
   "id": "fd1d44f9-3ea7-451e-b4fb-8b85cd094e4f",
   "metadata": {},
   "source": [
    "In Python, you can add single-line comments using the hash symbol (#). When the interpreter encounters the hash symbol in a line of code, it ignores everything that follows on that line."
   ]
  },
  {
   "cell_type": "markdown",
   "id": "411ddb8a-a629-4362-ad80-50da5be62197",
   "metadata": {},
   "source": [
    "8. Mention functions which can help us to find the version of python that we are currently working on?"
   ]
  },
  {
   "cell_type": "markdown",
   "id": "74896378-798e-47fa-a7a2-37f8ac981801",
   "metadata": {},
   "source": [
    "There are a few functions in Python that can help you find out which version of Python you are currently working on:\n",
    "\n",
    "1. 'sys.version': This function returns a string that contains information about the Python version and build details. You can call this function in your Python code to print the version information to the console.\n",
    "\n",
    "2. 'platform.python_version()': This function returns a string that contains only the version number of the Python interpreter. You can call this function in your Python code to print the version number to the console.\n",
    "\n",
    "3. 'sys.version_info': This function returns a tuple that contains information about the Python version, such as the major and minor version numbers. You can use this function in your Python code to check the Python version programmatically.\n"
   ]
  },
  {
   "cell_type": "markdown",
   "id": "0cc01162-a5d5-4a12-a6be-8d8664f5fae7",
   "metadata": {},
   "source": [
    "9. Python supports the creation of anonymous functions at runtime, using a construct called ______"
   ]
  },
  {
   "cell_type": "markdown",
   "id": "c575559b-65ab-4a8c-a869-138f56718e1c",
   "metadata": {},
   "source": [
    "Python supports the creation of anonymous functions at runtime, using a construct called lambda functions. Lambda functions are a way of creating small, one-time use functions without defining them using the standard def keyword.\n",
    "\n",
    "Lambda functions are defined using the lambda keyword, followed by a list of arguments, a colon, and the expression that is evaluated and returned when the lambda function is called. "
   ]
  },
  {
   "cell_type": "markdown",
   "id": "70fd52e1-b3f3-4c9e-b2f1-63550394f744",
   "metadata": {},
   "source": [
    "10. What does pip stand for python?"
   ]
  },
  {
   "cell_type": "markdown",
   "id": "35ad1186-f0db-4f72-9925-03f17a53a871",
   "metadata": {},
   "source": [
    "pip is a package manager for Python, which is used to install and manage software packages written in Python. The name \"pip\" is a recursive acronym that stands for \"pip installs packages\" or \"Pip Installs Python\".\n",
    "\n",
    "pip is included with most Python distributions and provides a simple command-line interface for managing Python packages. You can use pip to install packages from the Python Package Index (PyPI) or from other sources, as well as to manage package dependencies and version conflicts.\n",
    "\n",
    "pip is an essential tool for Python developers, as it allows them to easily manage and install third-party packages that extend the functionality of Python and save time by avoiding the need to write common functionality from scratch."
   ]
  },
  {
   "cell_type": "markdown",
   "id": "fa2692ee-fd99-457d-b810-7bead5f89214",
   "metadata": {},
   "source": [
    "11. Mention a few built-in functions in python?"
   ]
  },
  {
   "cell_type": "markdown",
   "id": "74f43473-03fa-44a2-b876-b8cb267868c8",
   "metadata": {},
   "source": [
    "Python comes with a wide range of built-in functions that are available without the need for any additional imports. Here are some of the most commonly used built-in functions in Python:\n",
    "\n",
    "print(): Used to output text or variables to the console.\n",
    "\n",
    "type(): Used to determine the data type of a variable or object.\n",
    "\n",
    "len(): Used to determine the length of a string, list, tuple, dictionary, or other iterable object.\n",
    "\n",
    "input(): Used to get user input from the console.\n",
    "\n",
    "str(), int(), float(), bool(): Used to convert variables to different data types.\n",
    "\n",
    "range(): Used to generate a sequence of numbers.\n",
    "\n",
    "min(), max(): Used to find the minimum or maximum value in a list or iterable.\n",
    "\n",
    "sum(): Used to calculate the sum of all the elements in a list or iterable.\n",
    "\n",
    "abs(): Used to get the absolute value of a number.\n",
    "\n",
    "sorted(): Used to sort a list or iterable in ascending order.\n",
    "\n",
    "These built-in functions are very useful for performing common tasks in Python and can save you a lot of time and effort compared to writing custom functions for every task."
   ]
  },
  {
   "cell_type": "markdown",
   "id": "ccac1687-864a-4f02-8ed6-542ebcd54e4b",
   "metadata": {},
   "source": [
    "12. What is the maximum possible length of an identifier in Python?"
   ]
  },
  {
   "cell_type": "markdown",
   "id": "6f817a58-1e16-41b7-a89b-3eb973bbcc61",
   "metadata": {},
   "source": [
    "In Python, the maximum length of an identifier is technically unlimited. However, it is generally recommended to keep identifiers to a reasonable length to make your code more readable and maintainable.\n",
    "\n",
    "According to the official Python documentation, an identifier is a sequence of letters, digits, and underscores that must start with a letter or an underscore (but not a digit). Python does not impose any hard limits on the length of an identifier, but it is generally a good practice to keep identifiers reasonably short and descriptive.\n",
    "\n",
    "The PEP 8 style guide for Python recommends keeping variable names to a maximum of 79 characters to ensure that code remains readable on a typical screen width. However, this is just a guideline and not a hard rule.\n",
    "\n",
    "In summary, while there is no technical limit on the length of an identifier in Python, it is recommended to keep them reasonably short and descriptive for the sake of readability and maintainability."
   ]
  },
  {
   "cell_type": "markdown",
   "id": "07393fa3-7932-450b-944f-f9c218528dd0",
   "metadata": {},
   "source": [
    "13. What are the benefits of using Python?"
   ]
  },
  {
   "cell_type": "markdown",
   "id": "c109ed16-35ae-4e76-adbd-a278a3505484",
   "metadata": {},
   "source": [
    "Python is a versatile and popular programming language that offers many benefits for developers. Here are some of the key benefits of using Python:\n",
    "\n",
    "1. Easy to learn and use: Python has a simple syntax and easy-to-understand code, making it an ideal language for beginners and experienced developers alike. It is also very easy to set up and get started with Python programming.\n",
    "\n",
    "2. Large standard library: Python comes with a large standard library of modules and functions that can be used for a wide range of tasks, such as web development, data analysis, machine learning, and more.\n",
    "\n",
    "3. Cross-platform compatibility: Python code can run on many different platforms, including Windows, macOS, Linux, and many others. This makes it a versatile language that can be used for a variety of applications.\n",
    "\n",
    "4. Strong community and support: Python has a large and active community of developers who contribute to open-source projects and provide support through forums, documentation, and other resources.\n",
    "\n",
    "5. Excellent for data analysis and scientific computing: Python has become a popular language for data analysis and scientific computing, with many powerful libraries and tools available for tasks such as data visualization, statistical analysis, and machine learning.\n",
    "\n",
    "6. High productivity and faster development: Python allows developers to write code quickly and efficiently, thanks to its simple syntax and powerful features. This can lead to faster development times and increased productivity.\n",
    "\n",
    "Overall, Python is a flexible, powerful, and easy-to-learn programming language that offers many benefits for developers of all skill levels."
   ]
  },
  {
   "cell_type": "markdown",
   "id": "5511708a-9d2c-4848-a580-97f58012c6af",
   "metadata": {},
   "source": [
    "14. How is memory managed in Python?"
   ]
  },
  {
   "cell_type": "markdown",
   "id": "94e91f10-a908-4430-8ca5-eca3e1887763",
   "metadata": {},
   "source": [
    "Memory management in Python is handled by the Python runtime itself, using a combination of techniques including reference counting, garbage collection, and memory pooling.\n",
    "\n",
    "Here's a brief overview of how these techniques work:\n",
    "\n",
    "1. Reference counting: Python uses reference counting to keep track of how many references are pointing to a particular object in memory. When an object's reference count drops to zero, Python automatically frees the memory used by that object.\n",
    "\n",
    "2. Garbage collection: In addition to reference counting, Python also uses a garbage collector to detect and clean up objects that are no longer being used by the program. The garbage collector runs periodically in the background, identifying and freeing up memory used by objects that are no longer referenced.\n",
    "\n",
    "3. Memory pooling: Python also uses a memory pool to manage the allocation and deallocation of small objects. The memory pool allows Python to quickly allocate and deallocate memory for frequently used objects, improving performance and reducing memory fragmentation.\n",
    "\n",
    "Python's memory management system is designed to be efficient and automatic, allowing developers to focus on writing code without worrying about memory allocation and deallocation. However, it's still important to be mindful of memory usage and to avoid creating unnecessary objects or holding onto objects for longer than necessary, as this can lead to performance issues and memory leaks."
   ]
  },
  {
   "cell_type": "markdown",
   "id": "06cee6a6-4e9b-4d11-b240-496fbd579ef1",
   "metadata": {},
   "source": [
    "15. How to install Python on Windows and set path variables?"
   ]
  },
  {
   "cell_type": "markdown",
   "id": "7b50618a-99a1-4b18-903a-8eafbb0ffb24",
   "metadata": {},
   "source": [
    "To install Python on Windows and set path variables, follow these steps:\n",
    "\n",
    "1. Download the latest version of Python from the official website: https://www.python.org/downloads/windows/\n",
    "\n",
    "2. Run the downloaded installer and follow the prompts to install Python. Make sure to select the option to add Python to the system PATH during the installation process.\n",
    "\n",
    "3. Once Python is installed, open the Windows Command Prompt by pressing the Windows key + R, then typing \"cmd\" and pressing Enter.\n",
    "\n",
    "4. Type \"python\" at the command prompt and press Enter to check if Python is installed correctly. If Python is installed, you should see the Python version number displayed.\n",
    "\n",
    "5. To set the Python path variable, right-click on \"My Computer\" or \"This PC\" and select \"Properties\". Then, click on \"Advanced system settings\" and select the \"Environment Variables\" button.\n",
    "\n",
    "6. In the \"System Variables\" section, scroll down to the \"Path\" variable and click on \"Edit\".\n",
    "\n",
    "7. Add the path to the Python installation directory to the list of paths in the \"Variable value\" field. For example, if Python is installed in C:\\Python39, add \";C:\\Python39\" to the end of the list.\n",
    "\n",
    "8. Click \"OK\" to save the changes and close the windows.\n",
    "\n",
    "9. Open a new command prompt window and type \"python\" to ensure that the path variable has been set correctly.\n",
    "\n",
    "That's it! Python should now be installed and ready to use on your Windows machine, with the path variables properly set."
   ]
  },
  {
   "cell_type": "markdown",
   "id": "ad56e2e3-7db1-4efe-bda5-d0b40c3aeec9",
   "metadata": {},
   "source": [
    "16. Is indentation required in python?"
   ]
  },
  {
   "cell_type": "markdown",
   "id": "c703f0d9-bce0-4ac7-b467-dd93bdf52faf",
   "metadata": {},
   "source": [
    "Yes, indentation is required in Python."
   ]
  }
 ],
 "metadata": {
  "kernelspec": {
   "display_name": "Python 3 (ipykernel)",
   "language": "python",
   "name": "python3"
  },
  "language_info": {
   "codemirror_mode": {
    "name": "ipython",
    "version": 3
   },
   "file_extension": ".py",
   "mimetype": "text/x-python",
   "name": "python",
   "nbconvert_exporter": "python",
   "pygments_lexer": "ipython3",
   "version": "3.10.8"
  }
 },
 "nbformat": 4,
 "nbformat_minor": 5
}
